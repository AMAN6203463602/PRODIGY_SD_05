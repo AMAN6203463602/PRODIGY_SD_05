{
 "cells": [
  {
   "cell_type": "code",
   "execution_count": 3,
   "id": "7c108db0",
   "metadata": {},
   "outputs": [
    {
     "name": "stdout",
     "output_type": "stream",
     "text": [
      "Scraping completed. Data saved to 'product_data.csv'\n"
     ]
    }
   ],
   "source": [
    "import requests\n",
    "from bs4 import BeautifulSoup\n",
    "import csv\n",
    "\n",
    "# Replace this URL with the website you want to scrape\n",
    "url = \"https://www.amazon.in/ref=nav_logo/\"\n",
    "\n",
    "# Send an HTTP GET request to the URL\n",
    "response = requests.get(url)\n",
    "\n",
    "# Check if the request was successful\n",
    "if response.status_code == 200:\n",
    "    # Parse the HTML content of the page using BeautifulSoup\n",
    "    soup = BeautifulSoup(response.text, 'html.parser')\n",
    "\n",
    "    # Create a CSV file to store the data\n",
    "    with open('product_data.csv', 'w', newline='') as csv_file:\n",
    "        # Define the CSV writer\n",
    "        csv_writer = csv.writer(csv_file)\n",
    "        \n",
    "        # Write headers to the CSV file\n",
    "        csv_writer.writerow(['Product Name', 'Price', 'Rating'])\n",
    "        \n",
    "        # Find and extract product information\n",
    "        products = soup.find_all('div', class_='product')\n",
    "        for product in products:\n",
    "            # Extract product name\n",
    "            product_name = product.find('h2', class_='product-name').text.strip()\n",
    "            \n",
    "            # Extract product price\n",
    "            product_price = product.find('span', class_='product-price').text.strip()\n",
    "            \n",
    "            # Extract product rating\n",
    "            product_rating = product.find('span', class_='product-rating').text.strip()\n",
    "            \n",
    "            # Write the extracted data to the CSV file\n",
    "            csv_writer.writerow([product_name, product_price, product_rating])\n",
    "            \n",
    "    print(\"Scraping completed. Data saved to 'product_data.csv'\")\n",
    "else:\n",
    "    print(\"Failed to retrieve the webpage. Status code:\", response.status_code)\n"
   ]
  },
  {
   "cell_type": "code",
   "execution_count": null,
   "id": "fc9b5470",
   "metadata": {},
   "outputs": [],
   "source": []
  }
 ],
 "metadata": {
  "kernelspec": {
   "display_name": "Python 3 (ipykernel)",
   "language": "python",
   "name": "python3"
  },
  "language_info": {
   "codemirror_mode": {
    "name": "ipython",
    "version": 3
   },
   "file_extension": ".py",
   "mimetype": "text/x-python",
   "name": "python",
   "nbconvert_exporter": "python",
   "pygments_lexer": "ipython3",
   "version": "3.11.4"
  }
 },
 "nbformat": 4,
 "nbformat_minor": 5
}
